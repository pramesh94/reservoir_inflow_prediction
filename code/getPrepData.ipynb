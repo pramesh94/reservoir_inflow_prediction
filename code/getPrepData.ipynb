{
 "metadata": {
  "name": "",
  "signature": "sha256:5ba08694a97d34f421fada7f420a7b9d6b8a56679f7227219ef402a384afb675"
 },
 "nbformat": 3,
 "nbformat_minor": 0,
 "worksheets": [
  {
   "cells": [
    {
     "cell_type": "code",
     "collapsed": false,
     "input": [
      "from csv import reader\n",
      "numX = 69\n",
      "numY = 65\n",
      "\n",
      "fileNames = ['Rain1991.txt', 'Rain1992.txt', 'Rain1993.txt', 'Rain1994.txt', 'Rain1995.txt',\n",
      "            'Rain1996.txt', 'Rain1997.txt', 'Rain1998.txt', 'Rain1999.txt', 'Rain2000.txt']\n",
      "\n",
      "def getDataFromFile(fileName):\n",
      "    csv_reader = reader(open(\"../Data/Rainfall/\" + fileName))\n",
      "\n",
      "    i = 0\n",
      "    for row in csv_reader:\n",
      "        v = (i - 2) % (numX + 2)\n",
      "        if (i > 0) and ((v == 35) or (v == 37) or (v == 39)):\n",
      "            temp = row[0].split()\n",
      "            for j in [40, 42]:\n",
      "#                 print v, j\n",
      "                ind = v * numY + j\n",
      "                f.write(temp[j] + ' ')\n",
      "        \n",
      "            if(v == 39):\n",
      "                f.write('\\n')\n",
      "        i = i + 1\n",
      "    return\n",
      "\n",
      "f = open('rain_data.txt', 'w')\n",
      "\n",
      "for fileName in fileNames:\n",
      "    getDataFromFile(fileName)\n",
      "\n",
      "f.close()"
     ],
     "language": "python",
     "metadata": {},
     "outputs": [],
     "prompt_number": 5
    },
    {
     "cell_type": "code",
     "collapsed": false,
     "input": [],
     "language": "python",
     "metadata": {},
     "outputs": []
    }
   ],
   "metadata": {}
  }
 ]
}