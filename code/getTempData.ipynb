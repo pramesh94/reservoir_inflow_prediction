{
 "metadata": {
  "name": "",
  "signature": "sha256:958928ecd19df817773f2e358344cfa35528cc8a944d583394de843110a5b2b0"
 },
 "nbformat": 3,
 "nbformat_minor": 0,
 "worksheets": [
  {
   "cells": [
    {
     "cell_type": "code",
     "collapsed": false,
     "input": [
      "from csv import reader\n",
      "numX = 32\n",
      "numY = 35\n",
      "\n",
      "fileNames = ['MAXT1991.TXT', 'MAXT1992.TXT', 'MAXT1993.TXT', 'MAXT1994.TXT', 'MAXT1995.TXT',\n",
      "            'MAXT1996.TXT', 'MAXT1997.TXT', 'MAXT1998.TXT', 'MAXT1999.TXT', 'MAXT2000.TXT']\n",
      "\n",
      "# fileNames = ['MAXT1991.TXT']\n",
      "\n",
      "def getDataFromFile(fileName):\n",
      "    csv_reader = reader(open(\"../Data/Temperature/\" + fileName))\n",
      "\n",
      "    i = 0\n",
      "    for row in csv_reader:\n",
      "        v = (i - 2) % (numX + 1)\n",
      "        if (i > 0) and (v >= 17) and (v <= 19):\n",
      "            temp = row[0].split()\n",
      "            for j in [20,21]:\n",
      "#                 print v, j\n",
      "                ind = v * numY + j\n",
      "                f.write(temp[j + 5] + ' ')\n",
      "        \n",
      "            if(v == 19):\n",
      "                f.write('\\n')\n",
      "        i = i + 1\n",
      "    return\n",
      "\n",
      "f = open('temp_data.txt', 'w')\n",
      "\n",
      "for fileName in fileNames:\n",
      "    getDataFromFile(fileName)\n",
      "\n",
      "f.close()"
     ],
     "language": "python",
     "metadata": {},
     "outputs": [],
     "prompt_number": 5
    }
   ],
   "metadata": {}
  }
 ]
}